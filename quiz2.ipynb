{
 "cells": [
  {
   "cell_type": "code",
   "execution_count": 2,
   "metadata": {},
   "outputs": [
    {
     "name": "stdout",
     "output_type": "stream",
     "text": [
      "Enter three nonnegative integers: 45 10 20\n",
      "\n",
      "The generated list is:\n",
      "   [8, 13, 15, 8, 2, 9, 10, 0, 2, 15]\n",
      "\n",
      "\n",
      "The fractions no greater than 1 that can be built from L, from smallest to largest, are:\n",
      "     0  2/15  2/13  1/5  2/9  1/4  8/15  3/5  8/13  2/3  9/13  10/13  4/5  13/15  8/9  9/10  1\n",
      "\n",
      "8/15 and 0 are both closest to 1/2\n"
     ]
    }
   ],
   "source": [
    "# Written by *** and Eric Martin for COMP9021\n",
    "\n",
    "\n",
    "'''\n",
    "Generates a list L of random nonnegative integers, the largest possible value\n",
    "and the length of L being input by the user, and generates:\n",
    "- a list \"fractions\" of strings of the form 'a/b' such that:\n",
    "    . a <= b;\n",
    "    . a*n and b*n both occur in L for some n\n",
    "    . a/b is in reduced form\n",
    "  enumerated from smallest fraction to largest fraction\n",
    "  (0 and 1 are exceptions, being represented as such rather than as 0/1 and 1/1);\n",
    "- if \"fractions\" contains then 1/2, then the fact that 1/2 belongs to \"fractions\";\n",
    "- otherwise, the member \"closest_1\" of \"fractions\" that is closest to 1/2,\n",
    "  if that member is unique;\n",
    "- otherwise, the two members \"closest_1\" and \"closest_2\" of \"fractions\" that are closest to 1/2,\n",
    "  in their natural order.\n",
    "'''\n",
    "\n",
    "\n",
    "import sys\n",
    "from random import seed, randint\n",
    "from math import gcd\n",
    "from fractions import Fraction\n",
    "import operator\n",
    "\n",
    "try:\n",
    "    arg_for_seed, length, max_value = input('Enter three nonnegative integers: ').split()\n",
    "except ValueError:\n",
    "    print('Incorrect input, giving up.')\n",
    "    sys.exit()\n",
    "try:\n",
    "    arg_for_seed, length, max_value = int(arg_for_seed), int(length), int(max_value)\n",
    "    if arg_for_seed < 0 or length < 0 or max_value < 0:\n",
    "        raise ValueError\n",
    "except ValueError:\n",
    "    print('Incorrect input, giving up.')\n",
    "    sys.exit()\n",
    "\n",
    "seed(arg_for_seed)\n",
    "L = [randint(0, max_value) for _ in range(length)]\n",
    "if not any(e for e in L):\n",
    "    print('\\nI failed to generate one strictly positive number, giving up.')\n",
    "    sys.exit()\n",
    "print('\\nThe generated list is:')\n",
    "print('  ', L)\n",
    "\n",
    "fractions = []\n",
    "spot_on, closest_1, closest_2 = [None] * 3\n",
    "\n",
    "# Replace this comment with your code\n",
    "T = []\n",
    "D = {}\n",
    "for i in L:\n",
    "    for j in L:\n",
    "        if i <= j and j != 0: \n",
    "            k = gcd(i,j)\n",
    "            T.append((i//k,j//k))\n",
    "        else:\n",
    "            pass\n",
    "for i in range(len(T)):\n",
    "    D[T[i]] = T[i][0]/T[i][1]\n",
    "#print(T)\n",
    "print()\n",
    "sorted_D = sorted(D.items(), key=operator.itemgetter(1))\n",
    "#print(sorted_D)\n",
    "\n",
    "delta = 0.5\n",
    "closest_1=(1,1)\n",
    "for i in sorted_D:\n",
    "    if i[1] == 0.5:\n",
    "        spot_on = True\n",
    "        break        \n",
    "    elif abs(i[1] - 0.5) == delta and i[0] != (1,1):\n",
    "        closest_2 = i[0]\n",
    "    elif abs(i[1] - 0.5) < delta:\n",
    "        delta = abs(i[1] - 0.5)\n",
    "        closest_1 = i[0]\n",
    "    else: pass\n",
    "if closest_1 == (1,1) and closest_2 == (0,1):\n",
    "    closest_1,closest_2 = closest_2,closest_1\n",
    "#print(closest_1)\n",
    "print('\\nThe fractions no greater than 1 that can be built from L, from smallest to largest, are:')\n",
    "print(end = '  ')\n",
    "fractions = []\n",
    "for i in sorted_D:    \n",
    "    fractions.append(f'{Fraction(i[0][0],i[0][1])}')\n",
    "print('  ', '  '.join(e for e in fractions))\n",
    "print()\n",
    "if spot_on:\n",
    "    print('One of these fractions is 1/2')\n",
    "elif closest_2 is None:\n",
    "    print('The fraction closest to 1/2 is', Fraction(closest_1[0],closest_1[1]))\n",
    "else:\n",
    "    print(Fraction(closest_1[0],closest_1[1]), 'and', Fraction(closest_2[0],closest_2[1]), 'are both closest to 1/2')\n"
   ]
  },
  {
   "cell_type": "code",
   "execution_count": 2,
   "metadata": {},
   "outputs": [
    {
     "data": {
      "text/plain": [
       "'6/8'"
      ]
     },
     "execution_count": 2,
     "metadata": {},
     "output_type": "execute_result"
    }
   ],
   "source": [
    "f\"{6}/{8}\""
   ]
  },
  {
   "cell_type": "code",
   "execution_count": 55,
   "metadata": {
    "scrolled": false
   },
   "outputs": [
    {
     "name": "stdout",
     "output_type": "stream",
     "text": [
      "[(1, 6), (1, 2), (1, 3), (2, 7), (2, 9), (1, 3), (2, 3), (4, 7), (4, 9), (1, 2), (6, 7), (2, 3), (7, 12), (7, 9), (3, 4)]\n",
      "\n",
      "[((1, 6), 0.16666666666666666), ((2, 9), 0.2222222222222222), ((2, 7), 0.2857142857142857), ((1, 3), 0.3333333333333333), ((4, 9), 0.4444444444444444), ((1, 2), 0.5), ((4, 7), 0.5714285714285714), ((7, 12), 0.5833333333333334), ((2, 3), 0.6666666666666666), ((3, 4), 0.75), ((7, 9), 0.7777777777777778), ((6, 7), 0.8571428571428571)]\n",
      "1/6  2/9  2/7  1/3  4/9  1/2  4/7  7/12  2/3  3/4  7/9  6/7  "
     ]
    },
    {
     "data": {
      "text/plain": [
       "'delta = 0.5\\nfor i in sorted_D:\\n    if abs(i[1] - 0.5) < delta:\\n        delta = i[1] - o.5\\n        closest_1 = i[0]\\n    elif abs(i[1] - 0.5) == delta:\\n        closest_2 = i[0]\\n    elif i[1] == 0.5:\\n        spot_on = 1\\n        break\\n    else pass'"
      ]
     },
     "execution_count": 55,
     "metadata": {},
     "output_type": "execute_result"
    }
   ],
   "source": [
    "from math import gcd\n",
    "import operator\n",
    "L = [12,2,4,6,7,9]\n",
    "T = []\n",
    "D = {}\n",
    "for i in L:\n",
    "    for j in L:\n",
    "        if i < j: \n",
    "            k = gcd(i,j)\n",
    "            T.append((i//k,j//k))\n",
    "for i in range(len(T)):\n",
    "    D[T[i]] = T[i][0]/T[i][1]\n",
    "print(T)\n",
    "print()\n",
    "sorted_D = sorted(D.items(), key=operator.itemgetter(1))\n",
    "print(sorted_D)\n",
    "for i in sorted_D:\n",
    "    print(f\"{i[0][0]}/{i[0][1]}\",end = '  ')\n",
    "delta = 0.5\n",
    "for i in sorted_D:\n",
    "    if abs(i[1] - 0.5) < delta:\n",
    "        delta = i[1] - o.5\n",
    "        closest_1 = i[0]\n",
    "    elif abs(i[1] - 0.5) == delta:\n",
    "        closest_2 = i[0]\n",
    "    elif i[1] == 0.5:\n",
    "        spot_on = 1\n",
    "        break\n",
    "    else pass"
   ]
  },
  {
   "cell_type": "code",
   "execution_count": 58,
   "metadata": {},
   "outputs": [
    {
     "data": {
      "text/plain": [
       "{0: 0, 1: 2, 2: 1, 3: 4, 4: 3}"
      ]
     },
     "execution_count": 58,
     "metadata": {},
     "output_type": "execute_result"
    }
   ],
   "source": [
    "import operator\n",
    "x = {1: 2, 3: 4, 4: 3, 2: 1, 0: 0}\n",
    "sorted_x = sorted(x.items(), key=operator.itemgetter(0))\n",
    "x"
   ]
  },
  {
   "cell_type": "code",
   "execution_count": 71,
   "metadata": {},
   "outputs": [
    {
     "ename": "AttributeError",
     "evalue": "'tuple' object has no attribute 'update'",
     "output_type": "error",
     "traceback": [
      "\u001b[0;31m---------------------------------------------------------------------------\u001b[0m",
      "\u001b[0;31mAttributeError\u001b[0m                            Traceback (most recent call last)",
      "\u001b[0;32m<ipython-input-71-b456a2b8c3e9>\u001b[0m in \u001b[0;36m<module>\u001b[0;34m()\u001b[0m\n\u001b[1;32m      1\u001b[0m \u001b[0mp\u001b[0m \u001b[0;34m=\u001b[0m \u001b[0;34m[\u001b[0m\u001b[0;34m(\u001b[0m\u001b[0;36m1\u001b[0m\u001b[0;34m,\u001b[0m\u001b[0;36m2\u001b[0m\u001b[0;34m)\u001b[0m\u001b[0;34m,\u001b[0m\u001b[0;34m(\u001b[0m\u001b[0;36m2\u001b[0m\u001b[0;34m,\u001b[0m\u001b[0;36m3\u001b[0m\u001b[0;34m)\u001b[0m\u001b[0;34m,\u001b[0m\u001b[0;34m(\u001b[0m\u001b[0;36m1\u001b[0m\u001b[0;34m,\u001b[0m\u001b[0;36m2\u001b[0m\u001b[0;34m)\u001b[0m\u001b[0;34m]\u001b[0m\u001b[0;34m\u001b[0m\u001b[0m\n\u001b[1;32m      2\u001b[0m \u001b[0mq\u001b[0m \u001b[0;34m=\u001b[0m \u001b[0;34m(\u001b[0m\u001b[0;34m)\u001b[0m\u001b[0;34m\u001b[0m\u001b[0m\n\u001b[0;32m----> 3\u001b[0;31m \u001b[0;32mfor\u001b[0m \u001b[0mi\u001b[0m \u001b[0;32min\u001b[0m \u001b[0mp\u001b[0m\u001b[0;34m:\u001b[0m \u001b[0mq\u001b[0m\u001b[0;34m.\u001b[0m\u001b[0mupdate\u001b[0m \u001b[0;34m=\u001b[0m \u001b[0mi\u001b[0m\u001b[0;34m\u001b[0m\u001b[0m\n\u001b[0m\u001b[1;32m      4\u001b[0m \u001b[0mq\u001b[0m\u001b[0;34m\u001b[0m\u001b[0m\n",
      "\u001b[0;31mAttributeError\u001b[0m: 'tuple' object has no attribute 'update'"
     ]
    }
   ],
   "source": [
    "p = [(1,2),(2,3),(1,2)]\n",
    "q = ()\n",
    "for i in p: q.= i \n",
    "q"
   ]
  },
  {
   "cell_type": "code",
   "execution_count": 43,
   "metadata": {},
   "outputs": [
    {
     "name": "stdout",
     "output_type": "stream",
     "text": [
      "[(8, 6), (13, 12), (18, 12), (18, 4), (9, 3), (15, 1), (11, 8), (17, 3), (19, 15), (12, 0)]\n",
      "\n",
      "[(8, 6), (9, 3), (11, 8), (12, 0), (13, 12), (15, 1), (17, 3), (18, 4), (18, 12), (19, 15)]\n",
      "[-1, 2, 3, 4, -10, 11, -13, -13, -13, 14]\n"
     ]
    }
   ],
   "source": [
    "from random import randrange\n",
    "L = [(randrange(20),randrange(20)) for _ in range(10)]\n",
    "print(L)\n",
    "print()\n",
    "L.sort()\n",
    "print(L)\n",
    "'''def f(x):\n",
    "    return x[0]+x[1]\n",
    "L.sort(key=f)\n",
    "print(L)'''\n",
    "g = lambda x:x[0] + x[1] #another way to define a function\n",
    "g((4,6))\n",
    "L.sort(key = lambda x : x[0]+x[1])\n",
    "L.sort(key = lambda x : (x[1],x[0]))# sorted by 2nd\n",
    "T = [randrange(-19,20)for _ in range(10)]\n",
    "T.sort(key = abs)\n",
    "print(T)"
   ]
  },
  {
   "cell_type": "code",
   "execution_count": 45,
   "metadata": {},
   "outputs": [
    {
     "name": "stdout",
     "output_type": "stream",
     "text": [
      "[-18, -14, -4, 4, -19, -9, 3, 5, 15, 19]\n"
     ]
    }
   ],
   "source": [
    "from random import randrange\n",
    "T = [randrange(-19,20)for _ in range(10)]\n",
    "#T.sort(key = lambda x : x % 2)\n",
    "T.sort(key = lambda x :(x % 2 , x))#偶数在前奇数在后且按大小顺序输出\n",
    "print(T)"
   ]
  },
  {
   "cell_type": "code",
   "execution_count": 45,
   "metadata": {},
   "outputs": [
    {
     "name": "stdout",
     "output_type": "stream",
     "text": [
      "[7, 7, 23, 53, 61]\n",
      "{61, 23, 53, 7}\n"
     ]
    }
   ],
   "source": [
    "from random import randrange\n",
    "from math import sqrt\n",
    "L = [randrange(100)for _ in range(30)]\n",
    "def is_prime(x):\n",
    "    if x < 2:\n",
    "        return False\n",
    "    for d in range(2,round(sqrt(x)+1)):\n",
    "        if x % d ==0 :\n",
    "            return False\n",
    "    else: return True\n",
    "#R = [e for e in L is_prime(e)]\n",
    "L_filter = list(filter(is_prime,L))\n",
    "L_filter.sort()\n",
    "print(L_filter)\n",
    "print(set(L_filter))#set can eliminate redundancy\n",
    "#list(filter(lambda x : x % 2 ==0,L))#筛选偶数"
   ]
  },
  {
   "cell_type": "code",
   "execution_count": 51,
   "metadata": {},
   "outputs": [
    {
     "data": {
      "text/plain": [
       "2"
      ]
     },
     "execution_count": 51,
     "metadata": {},
     "output_type": "execute_result"
    }
   ],
   "source": [
    "round(2.19999)"
   ]
  },
  {
   "cell_type": "code",
   "execution_count": 1,
   "metadata": {},
   "outputs": [
    {
     "name": "stdout",
     "output_type": "stream",
     "text": [
      "PASS\n"
     ]
    }
   ],
   "source": [
    "L=((1,2,3),(2,8),(5,7))\n",
    "if (1,2,3) in L:\n",
    "    print('PASS')"
   ]
  },
  {
   "cell_type": "code",
   "execution_count": 3,
   "metadata": {},
   "outputs": [
    {
     "data": {
      "text/plain": [
       "0.5333333333333333"
      ]
     },
     "execution_count": 3,
     "metadata": {},
     "output_type": "execute_result"
    }
   ],
   "source": [
    "8/15"
   ]
  },
  {
   "cell_type": "code",
   "execution_count": null,
   "metadata": {
    "collapsed": true
   },
   "outputs": [],
   "source": []
  }
 ],
 "metadata": {
  "kernelspec": {
   "display_name": "Python 3",
   "language": "python",
   "name": "python3"
  },
  "language_info": {
   "codemirror_mode": {
    "name": "ipython",
    "version": 3
   },
   "file_extension": ".py",
   "mimetype": "text/x-python",
   "name": "python",
   "nbconvert_exporter": "python",
   "pygments_lexer": "ipython3",
   "version": "3.6.1"
  }
 },
 "nbformat": 4,
 "nbformat_minor": 2
}
